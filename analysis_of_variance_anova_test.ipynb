{
  "nbformat": 4,
  "nbformat_minor": 0,
  "metadata": {
    "colab": {
      "name": "analysis-of-variance-anova-test.ipynb",
      "provenance": []
    },
    "kernelspec": {
      "display_name": "Python 3",
      "language": "python",
      "name": "python3"
    },
    "language_info": {
      "codemirror_mode": {
        "name": "ipython",
        "version": 3
      },
      "file_extension": ".py",
      "mimetype": "text/x-python",
      "name": "python",
      "nbconvert_exporter": "python",
      "pygments_lexer": "ipython3",
      "version": "3.7.6"
    }
  },
  "cells": [
    {
      "cell_type": "markdown",
      "metadata": {
        "id": "LxzpzO0c9k79"
      },
      "source": [
        "# Analysis Of Variance - ANOVA Test"
      ]
    },
    {
      "cell_type": "markdown",
      "metadata": {
        "id": "tPOybZrg-QXB"
      },
      "source": [
        "> # One-Way ANOVA\n",
        "The one-way ANOVA tests whether the mean of some numeric variable differs across the levels of one categorical variable. It essentially answers the question: do any of the group means differ from one another? We won't get into the details of carrying out an ANOVA by hand as it involves more calculations than the t-test, but the process is similar: you go through several calculations to arrive at a test statistic and then you compare the test statistic to a critical value based on a probability distribution. In the case of the ANOVA, you use the \"f-distribution\".\n",
        "\n",
        "> The scipy library has a function for carrying out one-way ANOVA tests called scipy.stats.f_oneway(). Let's generate some fake voter age and demographic data and use the ANOVA to compare average ages across the groups:"
      ]
    },
    {
      "cell_type": "markdown",
      "metadata": {
        "id": "GoFWNdp3-0j4"
      },
      "source": [
        "> ## Import Required Libraries"
      ]
    },
    {
      "cell_type": "code",
      "metadata": {
        "id": "5bRI2vJs9k7-"
      },
      "source": [
        "import numpy as np\n",
        "import pandas as pd\n",
        "import matplotlib.pyplot as plt\n",
        "%matplotlib inline\n",
        "import scipy.stats as stats"
      ],
      "execution_count": null,
      "outputs": []
    },
    {
      "cell_type": "markdown",
      "metadata": {
        "id": "Kqel1FaC_NoA"
      },
      "source": [
        "> ## Making the Data"
      ]
    },
    {
      "cell_type": "code",
      "metadata": {
        "colab": {
          "base_uri": "https://localhost:8080/"
        },
        "id": "1Uk6ajjz_MdA",
        "outputId": "041c0d41-3842-493a-a8a7-82b1669e3522"
      },
      "source": [
        "np.random.seed(12)\n",
        "races = ['asian', 'black', 'hispanic', 'other', 'white']\n",
        "\n",
        "# Generate random data\n",
        "voter_race = np.random.choice(a=races, p=[0.05, 0.15, 0.25, 0.05, 0.5], size=1000)\n",
        "voter_age = stats.poisson.rvs(loc=18, mu=30, size=1000)\n",
        "\n",
        "# Group age data by race\n",
        "voter_frame = pd.DataFrame({'race': voter_race, 'age': voter_age})\n",
        "groups = voter_frame.groupby('race').groups"
      ],
      "execution_count": null,
      "outputs": [
        {
          "output_type": "execute_result",
          "data": {
            "text/plain": [
              "F_onewayResult(statistic=1.7744689357329695, pvalue=0.13173183201930463)"
            ]
          },
          "metadata": {
            "tags": []
          },
          "execution_count": 6
        }
      ]
    },
    {
      "cell_type": "markdown",
      "metadata": {
        "id": "LcTgPt0MES7B"
      },
      "source": [
        "> ## Extract individual groups"
      ]
    },
    {
      "cell_type": "code",
      "metadata": {
        "id": "A-KMDQlTEQ0R"
      },
      "source": [
        "asian = voter_age[groups['asian']]\n",
        "black = voter_age[groups['black']]\n",
        "hispanic = voter_age[groups['hispanic']]\n",
        "other = voter_age[groups['other']]\n",
        "white = voter_age[groups['white']]"
      ],
      "execution_count": null,
      "outputs": []
    },
    {
      "cell_type": "markdown",
      "metadata": {
        "id": "0DVAQlt0Ed-i"
      },
      "source": [
        "> ## Perform the ANOVA"
      ]
    },
    {
      "cell_type": "code",
      "metadata": {
        "colab": {
          "base_uri": "https://localhost:8080/"
        },
        "id": "A5a1VxnhEcBg",
        "outputId": "69445c35-560f-4c64-dd0d-b1a5f221775f"
      },
      "source": [
        "stats.f_oneway(asian, black, hispanic, other, white)"
      ],
      "execution_count": null,
      "outputs": [
        {
          "output_type": "execute_result",
          "data": {
            "text/plain": [
              "F_onewayResult(statistic=1.7744689357329695, pvalue=0.13173183201930463)"
            ]
          },
          "metadata": {
            "tags": []
          },
          "execution_count": 8
        }
      ]
    },
    {
      "cell_type": "markdown",
      "metadata": {
        "id": "DTAL9k_SEFbZ"
      },
      "source": [
        "> The test output yields an F-statistic of 1.774 and a p-value of 0.1317, indicating that there is no significant difference between the means of each group.\n",
        "\n",
        "Another way to carry out an ANOVA test is to use the statsmodels library"
      ]
    },
    {
      "cell_type": "code",
      "metadata": {
        "colab": {
          "base_uri": "https://localhost:8080/"
        },
        "id": "QOTm_QL2DELS",
        "outputId": "1e80ce4e-bbb5-453a-df47-544558ac1c5f"
      },
      "source": [
        "import statsmodels.api as sm\n",
        "from statsmodels.formula.api import ols\n",
        "\n",
        "model = ols('age ~ race', data = voter_frame).fit()\n",
        "\n",
        "anova_result = sm.stats.anova_lm(model, typ=2)\n",
        "print(anova_result)"
      ],
      "execution_count": null,
      "outputs": [
        {
          "output_type": "stream",
          "text": [
            "             sum_sq     df         F    PR(>F)\n",
            "race        199.369    4.0  1.774469  0.131732\n",
            "Residual  27948.102  995.0       NaN       NaN\n"
          ],
          "name": "stdout"
        }
      ]
    },
    {
      "cell_type": "markdown",
      "metadata": {
        "id": "PLBxUpZAF9vs"
      },
      "source": [
        "> As you can see, the statsmodels method produced the same F statistic and P-value (listed as PR(<F)) as the stats.f_oneway method.\n",
        "\n",
        "> Now let's make new age data where the group means do differ and run a second ANOVA:"
      ]
    },
    {
      "cell_type": "code",
      "metadata": {
        "id": "oBuYNLn1FO7q"
      },
      "source": [
        "np.random.seed(12)\n",
        "\n",
        "# Generate random data\n",
        "voter_race = np.random.choice(a=races, p=[0.05, 0.15, 0.25, 0.05, 0.5], size=1000)\n",
        "\n",
        "# Use a different distribution for white ages\n",
        "white_ages = stats.poisson.rvs(loc=18, mu=32, size=1000)\n",
        "voter_age = stats.poisson.rvs(loc=18, mu=30, size=1000)\n",
        "\n",
        "voter_age = np.where(voter_race == 'white', white_ages, voter_age)"
      ],
      "execution_count": null,
      "outputs": []
    },
    {
      "cell_type": "markdown",
      "metadata": {
        "id": "6u9BsBnDHIr9"
      },
      "source": [
        "> ## Group age data by race"
      ]
    },
    {
      "cell_type": "code",
      "metadata": {
        "id": "Zr5LlZM4HKdO"
      },
      "source": [
        "voter_frame = pd.DataFrame({'race': voter_race, 'age': voter_age})\n",
        "groups = voter_frame.groupby('race').groups"
      ],
      "execution_count": null,
      "outputs": []
    },
    {
      "cell_type": "code",
      "metadata": {
        "colab": {
          "base_uri": "https://localhost:8080/"
        },
        "id": "4weZcTgxHhxQ",
        "outputId": "a12b68e6-dd4c-4920-9e72-1fa8b86855c9"
      },
      "source": [
        "len(groups)"
      ],
      "execution_count": null,
      "outputs": [
        {
          "output_type": "execute_result",
          "data": {
            "text/plain": [
              "5"
            ]
          },
          "metadata": {
            "tags": []
          },
          "execution_count": 14
        }
      ]
    },
    {
      "cell_type": "code",
      "metadata": {
        "colab": {
          "base_uri": "https://localhost:8080/"
        },
        "id": "HAUYLQZ1H9D5",
        "outputId": "28621d7d-6686-43fc-c980-1016f7e9a57f"
      },
      "source": [
        "groups"
      ],
      "execution_count": null,
      "outputs": [
        {
          "output_type": "execute_result",
          "data": {
            "text/plain": [
              "{'asian': [4, 7, 14, 21, 49, 53, 59, 78, 95, 98, 135, 136, 162, 203, 227, 264, 278, 289, 326, 335, 345, 373, 430, 480, 484, 491, 516, 587, 602, 684, 692, 708, 715, 761, 776, 826, 828, 832, 853, 897, 942, 951, 986, 996], 'black': [0, 9, 19, 22, 23, 42, 50, 56, 62, 76, 105, 108, 119, 120, 124, 126, 131, 134, 138, 143, 152, 167, 171, 178, 182, 184, 202, 206, 211, 213, 229, 233, 236, 238, 242, 243, 245, 249, 253, 259, 261, 265, 266, 281, 287, 290, 294, 299, 303, 312, 314, 320, 328, 332, 333, 340, 349, 379, 383, 389, 394, 409, 411, 412, 420, 427, 438, 456, 457, 464, 469, 472, 476, 478, 479, 486, 488, 492, 497, 498, 508, 518, 521, 534, 536, 552, 555, 557, 568, 574, 601, 607, 609, 615, 620, 624, 625, 628, 636, 646, ...], 'hispanic': [2, 10, 24, 28, 31, 32, 38, 40, 44, 45, 47, 54, 55, 58, 63, 71, 74, 83, 87, 88, 89, 91, 100, 104, 109, 110, 111, 113, 114, 117, 121, 123, 128, 132, 133, 139, 144, 145, 148, 155, 156, 158, 159, 168, 169, 172, 173, 188, 191, 195, 209, 210, 217, 218, 220, 223, 224, 231, 235, 240, 241, 248, 254, 256, 257, 258, 262, 263, 268, 270, 273, 274, 282, 285, 291, 292, 298, 301, 313, 329, 330, 336, 337, 338, 339, 342, 344, 346, 348, 356, 357, 361, 366, 369, 375, 376, 377, 380, 381, 384, ...], 'other': [17, 26, 39, 46, 48, 65, 67, 72, 146, 237, 246, 255, 284, 302, 317, 322, 358, 370, 386, 413, 425, 446, 530, 542, 569, 571, 573, 575, 583, 626, 629, 637, 662, 696, 700, 701, 728, 739, 756, 757, 773, 813, 819, 880, 923, 936, 939, 971, 980, 992], 'white': [1, 3, 5, 6, 8, 11, 12, 13, 15, 16, 18, 20, 25, 27, 29, 30, 33, 34, 35, 36, 37, 41, 43, 51, 52, 57, 60, 61, 64, 66, 68, 69, 70, 73, 75, 77, 79, 80, 81, 82, 84, 85, 86, 90, 92, 93, 94, 96, 97, 99, 101, 102, 103, 106, 107, 112, 115, 116, 118, 122, 125, 127, 129, 130, 137, 140, 141, 142, 147, 149, 150, 151, 153, 154, 157, 160, 161, 163, 164, 165, 166, 170, 174, 175, 176, 177, 179, 180, 181, 183, 185, 186, 187, 189, 190, 192, 193, 194, 196, 197, ...]}"
            ]
          },
          "metadata": {
            "tags": []
          },
          "execution_count": 15
        }
      ]
    },
    {
      "cell_type": "markdown",
      "metadata": {
        "id": "wMsb0HLrHkzG"
      },
      "source": [
        "> ## Extract individual groups"
      ]
    },
    {
      "cell_type": "code",
      "metadata": {
        "id": "DNilY1bKHvaP"
      },
      "source": [
        "asian = voter_age[groups['asian']]\n",
        "black = voter_age[groups['black']]\n",
        "hispanic = voter_age[groups['hispanic']]\n",
        "other = voter_age[groups['other']]\n",
        "white = voter_age[groups['white']]"
      ],
      "execution_count": null,
      "outputs": []
    },
    {
      "cell_type": "markdown",
      "metadata": {
        "id": "8b6tTgWzIiTy"
      },
      "source": [
        "> ## Perform ANOVA"
      ]
    },
    {
      "cell_type": "code",
      "metadata": {
        "colab": {
          "base_uri": "https://localhost:8080/"
        },
        "id": "L2b1MwynIldn",
        "outputId": "a89984ee-a4a3-415d-8933-955b8ee125b1"
      },
      "source": [
        "stats.f_oneway(asian, black, hispanic, other, white)"
      ],
      "execution_count": null,
      "outputs": [
        {
          "output_type": "execute_result",
          "data": {
            "text/plain": [
              "F_onewayResult(statistic=10.164699828386366, pvalue=4.5613242113994585e-08)"
            ]
          },
          "metadata": {
            "tags": []
          },
          "execution_count": 17
        }
      ]
    },
    {
      "cell_type": "markdown",
      "metadata": {
        "id": "yFqDv43cJXXF"
      },
      "source": [
        "> ## Alternate method"
      ]
    },
    {
      "cell_type": "code",
      "metadata": {
        "colab": {
          "base_uri": "https://localhost:8080/"
        },
        "id": "RzRpMl6vJSQb",
        "outputId": "699479c5-fc8c-4028-a584-07bbde5e5b4a"
      },
      "source": [
        "model = ols('age ~ race',                 # Model formula\n",
        "            data = voter_frame).fit()\n",
        "                \n",
        "anova_result = sm.stats.anova_lm(model, typ=2)\n",
        "print (anova_result)"
      ],
      "execution_count": null,
      "outputs": [
        {
          "output_type": "stream",
          "text": [
            "                sum_sq     df        F        PR(>F)\n",
            "race       1284.123213    4.0  10.1647  4.561324e-08\n",
            "Residual  31424.995787  995.0      NaN           NaN\n"
          ],
          "name": "stdout"
        }
      ]
    },
    {
      "cell_type": "markdown",
      "metadata": {
        "id": "jiAfEbSTJioM"
      },
      "source": [
        "> The test result suggests the groups don't have the same sample means in this case, since the p-value is significant at a 99% confidence level. We know that it is the white voters who differ because we set it up that way in the code, but when testing real data, you may not know which group(s) caused the test to throw a positive result. To check which groups differ after getting a positive ANOVA result, you can perform a follow up test or \"post-hoc test\".\n",
        "\n",
        "> One post-hoc test is to perform a separate t-test for each pair of groups. You can perform a t-test between all pairs using by running each pair through the stats.ttest_ind() we covered in the lesson on t-tests:"
      ]
    },
    {
      "cell_type": "markdown",
      "metadata": {
        "id": "DIQKej59Jq5T"
      },
      "source": [
        "> ## Get all race pairs\n"
      ]
    },
    {
      "cell_type": "code",
      "metadata": {
        "id": "7zBJAHYIJaLi"
      },
      "source": [
        "race_pairs = []\n",
        "\n",
        "for race1 in range(4):\n",
        "    for race2 in range(race1+1, 5):\n",
        "        race_pairs.append((races[race1], races[race2]))"
      ],
      "execution_count": null,
      "outputs": []
    },
    {
      "cell_type": "code",
      "metadata": {
        "colab": {
          "base_uri": "https://localhost:8080/"
        },
        "id": "yz5r1rJ5Kio9",
        "outputId": "a6a06ddf-2e5b-4881-fa87-08703592168b"
      },
      "source": [
        "race_pairs"
      ],
      "execution_count": null,
      "outputs": [
        {
          "output_type": "execute_result",
          "data": {
            "text/plain": [
              "[('asian', 'black'),\n",
              " ('asian', 'hispanic'),\n",
              " ('asian', 'other'),\n",
              " ('asian', 'white'),\n",
              " ('black', 'hispanic'),\n",
              " ('black', 'other'),\n",
              " ('black', 'white'),\n",
              " ('hispanic', 'other'),\n",
              " ('hispanic', 'white'),\n",
              " ('other', 'white')]"
            ]
          },
          "metadata": {
            "tags": []
          },
          "execution_count": 20
        }
      ]
    },
    {
      "cell_type": "markdown",
      "metadata": {
        "id": "LSUk54WGKZdA"
      },
      "source": [
        "> ## Conduct t-test on each pair"
      ]
    },
    {
      "cell_type": "code",
      "metadata": {
        "colab": {
          "base_uri": "https://localhost:8080/"
        },
        "id": "88J0uE6XKgUO",
        "outputId": "ed341c8f-84b8-49d8-930b-6ed75f3da6b2"
      },
      "source": [
        "for race1, race2 in race_pairs:\n",
        "    print(race1, race2)\n",
        "    print(stats.ttest_ind(voter_age[groups[race1]], voter_age[groups[race2]]))"
      ],
      "execution_count": null,
      "outputs": [
        {
          "output_type": "stream",
          "text": [
            "asian black\n",
            "Ttest_indResult(statistic=0.838644690974798, pvalue=0.4027281369339345)\n",
            "asian hispanic\n",
            "Ttest_indResult(statistic=-0.42594691924932293, pvalue=0.6704669004240726)\n",
            "asian other\n",
            "Ttest_indResult(statistic=0.9795284739636, pvalue=0.3298877500095151)\n",
            "asian white\n",
            "Ttest_indResult(statistic=-2.318108811252288, pvalue=0.020804701566400217)\n",
            "black hispanic\n",
            "Ttest_indResult(statistic=-1.9527839210712925, pvalue=0.05156197171952594)\n",
            "black other\n",
            "Ttest_indResult(statistic=0.28025754367057176, pvalue=0.7795770111117659)\n",
            "black white\n",
            "Ttest_indResult(statistic=-5.379303881281835, pvalue=1.039421216662395e-07)\n",
            "hispanic other\n",
            "Ttest_indResult(statistic=1.5853626170340225, pvalue=0.11396630528484335)\n",
            "hispanic white\n",
            "Ttest_indResult(statistic=-3.5160312714115376, pvalue=0.0004641298649066684)\n",
            "other white\n",
            "Ttest_indResult(statistic=-3.763809322077872, pvalue=0.00018490576317593065)\n"
          ],
          "name": "stdout"
        }
      ]
    },
    {
      "cell_type": "markdown",
      "metadata": {
        "id": "OBGZtdkNNJiG"
      },
      "source": [
        "> The p-values for each pairwise t-test suggest mean of white voters is likely different from the other groups, since the p-values for each t-test involving the white group is below 0.05. Using unadjusted pairwise t-tests can overestimate significance, however, because the more comparisons you make, the more likely you are to come across an unlikely result due to chance. We can adjust for this multiple comparison problem by dividing the statistical significance level by the number of comparisons made. In this case, if we were looking for a significance level of 5%, we'd be looking for p-values of 0.05/10 = 0.005 or less. This simple adjustment for multiple comparisons is known as the Bonferroni correction.\n",
        "\n",
        "> The Bonferroni correction is a conservative approach to account for the multiple comparisons problem that may end up rejecting results that are actually significant. Another common post hoc-test is Tukey's test. You can carry out Tukey's test using the pairwise_tukeyhsd() function in the statsmodels.stats.multicomp library:"
      ]
    },
    {
      "cell_type": "code",
      "metadata": {
        "colab": {
          "base_uri": "https://localhost:8080/",
          "height": 600
        },
        "id": "NuycP0qpLLRq",
        "outputId": "41b617f0-3f56-4305-e7a1-9d71715ccd1a"
      },
      "source": [
        "from statsmodels.stats.multicomp import pairwise_tukeyhsd\n",
        "\n",
        "tukey = pairwise_tukeyhsd(endog=voter_age,     # Data\n",
        "                          groups=voter_race,   # Groups\n",
        "                          alpha=0.05)          # Significance level\n",
        "\n",
        "tukey.plot_simultaneous()    # Plot group confidence intervals\n",
        "plt.vlines(x=49.57,ymin=-0.5,ymax=4.5, color=\"red\")\n",
        "\n",
        "tukey.summary()              # See test summary"
      ],
      "execution_count": null,
      "outputs": [
        {
          "output_type": "execute_result",
          "data": {
            "text/html": [
              "<table class=\"simpletable\">\n",
              "<caption>Multiple Comparison of Means - Tukey HSD, FWER=0.05</caption>\n",
              "<tr>\n",
              "   <th>group1</th>   <th>group2</th>  <th>meandiff</th>  <th>p-adj</th>  <th>lower</th>   <th>upper</th> <th>reject</th>\n",
              "</tr>\n",
              "<tr>\n",
              "    <td>asian</td>    <td>black</td>   <td>-0.8032</td>   <td>0.9</td>  <td>-3.4423</td>  <td>1.836</td>  <td>False</td>\n",
              "</tr>\n",
              "<tr>\n",
              "    <td>asian</td>  <td>hispanic</td>  <td>0.4143</td>    <td>0.9</td>  <td>-2.1011</td> <td>2.9297</td>  <td>False</td>\n",
              "</tr>\n",
              "<tr>\n",
              "    <td>asian</td>    <td>other</td>   <td>-1.0645</td> <td>0.8852</td> <td>-4.2391</td>  <td>2.11</td>   <td>False</td>\n",
              "</tr>\n",
              "<tr>\n",
              "    <td>asian</td>    <td>white</td>   <td>1.9547</td>   <td>0.175</td> <td>-0.4575</td> <td>4.3668</td>  <td>False</td>\n",
              "</tr>\n",
              "<tr>\n",
              "    <td>black</td>  <td>hispanic</td>  <td>1.2175</td>  <td>0.2318</td> <td>-0.386</td>   <td>2.821</td>  <td>False</td>\n",
              "</tr>\n",
              "<tr>\n",
              "    <td>black</td>    <td>other</td>   <td>-0.2614</td>   <td>0.9</td>  <td>-2.7757</td>  <td>2.253</td>  <td>False</td>\n",
              "</tr>\n",
              "<tr>\n",
              "    <td>black</td>    <td>white</td>   <td>2.7579</td>   <td>0.001</td> <td>1.3217</td>   <td>4.194</td>  <td>True</td> \n",
              "</tr>\n",
              "<tr>\n",
              "  <td>hispanic</td>   <td>other</td>   <td>-1.4789</td> <td>0.4391</td> <td>-3.863</td>  <td>0.9053</td>  <td>False</td>\n",
              "</tr>\n",
              "<tr>\n",
              "  <td>hispanic</td>   <td>white</td>   <td>1.5404</td>   <td>0.004</td> <td>0.3468</td>   <td>2.734</td>  <td>True</td> \n",
              "</tr>\n",
              "<tr>\n",
              "    <td>other</td>    <td>white</td>   <td>3.0192</td>  <td>0.0028</td> <td>0.7443</td>  <td>5.2941</td>  <td>True</td> \n",
              "</tr>\n",
              "</table>"
            ],
            "text/plain": [
              "<class 'statsmodels.iolib.table.SimpleTable'>"
            ]
          },
          "metadata": {
            "tags": []
          },
          "execution_count": 22
        },
        {
          "output_type": "display_data",
          "data": {
            "image/png": "[encoded data removed]",
            "text/plain": [
              "<Figure size 720x432 with 1 Axes>"
            ]
          },
          "metadata": {
            "tags": [],
            "needs_background": "light"
          }
        }
      ]
    },
    {
      "cell_type": "markdown",
      "metadata": {
        "id": "mJKcMW5eNg-P"
      },
      "source": [
        "> The output of the Tukey test shows the average difference, a confidence interval as well as whether you should reject the null hypothesis for each pair of groups at the given significance level. In this case, the test suggests we reject the null hypothesis for 3 pairs, with each pair including the \"white\" category. This suggests the white group is likely different from the others. The 95% confidence interval plot reinforces the results visually: only 1 other group's confidence interval overlaps the white group's confidence interval."
      ]
    },
    {
      "cell_type": "markdown",
      "metadata": {
        "id": "G2zK2cfMNgpP"
      },
      "source": [
        "> ## Conclusion:\n",
        "The ANOVA test lets us check whether a numeric response variable varies according to the levels of a categorical variable. Python's scipy library makes it easy to perform an ANOVA without diving too deep into the details of the procedure."
      ]
    }
  ]
}