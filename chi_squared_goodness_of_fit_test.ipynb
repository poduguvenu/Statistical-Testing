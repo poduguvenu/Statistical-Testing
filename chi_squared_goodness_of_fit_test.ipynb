{
  "nbformat": 4,
  "nbformat_minor": 0,
  "metadata": {
    "kernelspec": {
      "display_name": "Python 3",
      "language": "python",
      "name": "python3"
    },
    "language_info": {
      "codemirror_mode": {
        "name": "ipython",
        "version": 3
      },
      "file_extension": ".py",
      "mimetype": "text/x-python",
      "name": "python",
      "nbconvert_exporter": "python",
      "pygments_lexer": "ipython3",
      "version": "3.7.6"
    },
    "colab": {
      "name": "chi-squared-goodness-of-fit-test.ipynb",
      "provenance": []
    }
  },
  "cells": [
    {
      "cell_type": "markdown",
      "metadata": {
        "id": "7fHwSTZw5cIj"
      },
      "source": [
        "# Chi Squared Tests - Goodness of Fit Test\n",
        "In this lesson, we turn our attention to a common statistical test for categorical variables: the chi-squared test."
      ]
    },
    {
      "cell_type": "markdown",
      "metadata": {
        "id": "FJEol6Ro54Dj"
      },
      "source": [
        "> In our study of t-tests, we introduced the one-way t-test to check whether a sample mean differs from the an expected (population) mean. The chi-squared goodness-of-fit test is an analog of the one-way t-test for categorical variables: it tests whether the distribution of sample categorical data matches an expected distribution. For example, you could use a chi-squared goodness-of-fit test to check whether the race demographics of members at your church or school match that of the entire U.S. population or whether the computer browser preferences of your friends match those of Internet uses as a whole.\n",
        "\n",
        "> When working with categorical data, the values themselves aren't of much use for statistical testing because categories like \"male\", \"female,\" and \"other\" have no mathematical meaning. Tests dealing with categorical variables are based on variable counts instead of the actual value of the variables themselves.\n",
        "\n",
        "> Let's generate some fake demographic data for U.S. and Minnesota and walk through the chi-square goodness of fit test to check whether they are different:"
      ]
    },
    {
      "cell_type": "markdown",
      "metadata": {
        "id": "x5CIee1u6azV"
      },
      "source": [
        "> ## Import Required Libraries"
      ]
    },
    {
      "cell_type": "code",
      "metadata": {
        "id": "7-rUzRhV6qPU"
      },
      "source": [
        "import numpy as np\n",
        "import pandas as pd\n",
        "import scipy.stats as stats"
      ],
      "execution_count": 5,
      "outputs": []
    },
    {
      "cell_type": "markdown",
      "metadata": {
        "id": "etAbJTgz63SN"
      },
      "source": [
        "> ## Making the Dataset"
      ]
    },
    {
      "cell_type": "code",
      "metadata": {
        "id": "QWTcsECy61B7"
      },
      "source": [
        "national = pd.DataFrame(['white']*100000 + ['hispanic'] * 60000 + ['black'] * 50000 + ['asian'] * 15000 + ['other'] * 35000)\n",
        "minnesota = pd.DataFrame(['white']*600 + ['hispanic'] * 300 + ['black'] * 250 + ['asian'] * 75 + ['other'] * 150)"
      ],
      "execution_count": 6,
      "outputs": []
    },
    {
      "cell_type": "code",
      "metadata": {
        "colab": {
          "base_uri": "https://localhost:8080/"
        },
        "id": "tzunIO2t7keP",
        "outputId": "33d00b62-a7ca-48eb-8d4d-c1701c7aa220"
      },
      "source": [
        "national_table = pd.crosstab(index=national[0], columns='count')\n",
        "minnesota_table = pd.crosstab(index=minnesota[0], columns='count')\n",
        "print('National')\n",
        "print(national_table)\n",
        "print('minnesota')\n",
        "print(minnesota_table)"
      ],
      "execution_count": 7,
      "outputs": [
        {
          "output_type": "stream",
          "text": [
            "National\n",
            "col_0      count\n",
            "0               \n",
            "asian      15000\n",
            "black      50000\n",
            "hispanic   60000\n",
            "other      35000\n",
            "white     100000\n",
            "minnesota\n",
            "col_0     count\n",
            "0              \n",
            "asian        75\n",
            "black       250\n",
            "hispanic    300\n",
            "other       150\n",
            "white       600\n"
          ],
          "name": "stdout"
        }
      ]
    },
    {
      "cell_type": "markdown",
      "metadata": {
        "id": "Pu7ghyPx-xX8"
      },
      "source": [
        "> Chi-squared tests are based on the so-called chi-squared statistic. You calculate the chi-squared statistic with the following formula:\n",
        "\n",
        "> `sum((observed−expected) ** 2 / expected)`\n",
        " \n",
        "> In the formula, observed is the actual observed count for each category and expected is the expected count based on the distribution of the population for the corresponding category. Let's calculate the chi-squared statistic for our data to illustrate:"
      ]
    },
    {
      "cell_type": "markdown",
      "metadata": {
        "id": "9pOn6oQF-w7e"
      },
      "source": [
        ""
      ]
    },
    {
      "cell_type": "code",
      "metadata": {
        "colab": {
          "base_uri": "https://localhost:8080/"
        },
        "id": "mRl1VtDP8EXc",
        "outputId": "b193d4ad-085e-4601-fc1b-ac65eef87034"
      },
      "source": [
        "observed = minnesota_table\n",
        "national_ratios = national_table / len(national)    # Get population ratios\n",
        "print(national_ratios)\n",
        "expected = national_ratios * len(minnesota)         # Get expected counts\n",
        "chi_squared_stat = (((observed-expected) ** 2) / expected).sum()\n",
        "print(chi_squared_stat)"
      ],
      "execution_count": 17,
      "outputs": [
        {
          "output_type": "stream",
          "text": [
            "col_0        count\n",
            "0                 \n",
            "asian     0.057692\n",
            "black     0.192308\n",
            "hispanic  0.230769\n",
            "other     0.134615\n",
            "white     0.384615\n",
            "col_0\n",
            "count    18.194805\n",
            "dtype: float64\n"
          ],
          "name": "stdout"
        }
      ]
    },
    {
      "cell_type": "markdown",
      "metadata": {
        "id": "3a-i7iBpAdi2"
      },
      "source": [
        "> Note: The chi-squared test assumes none of the expected counts are less than 5.\n",
        "\n",
        "> Similar to the t-test where we compared the t-test statistic to a critical value based on the t-distribution to determine whether the result is significant, in the chi-square test we compare the chi-square test statistic to a critical value based on the chi-square distribution. The scipy library shorthand for the chi-square distribution is chi2. Let's use this knowledge to find the critical value for 95% confidence level and check the p-value of our result:"
      ]
    },
    {
      "cell_type": "code",
      "metadata": {
        "colab": {
          "base_uri": "https://localhost:8080/"
        },
        "id": "hpFtwxmH_7wy",
        "outputId": "b9a4363b-14f7-4158-ef91-e723a2d21419"
      },
      "source": [
        "crit = stats.chi2.ppf(q = 0.95, # Find the critical value for 95% confidence*\n",
        "                      df = 4)   # Df = number of variable categories - 1\n",
        "\n",
        "print(\"Critical value\")\n",
        "print(crit)\n",
        "\n",
        "p_value = 1 - stats.chi2.cdf(x=chi_squared_stat,  # Find the p-value\n",
        "                             df=4)\n",
        "print(\"P value\")\n",
        "print(p_value)"
      ],
      "execution_count": 10,
      "outputs": [
        {
          "output_type": "stream",
          "text": [
            "Critical value\n",
            "9.487729036781154\n",
            "P value\n",
            "[0.00113047]\n"
          ],
          "name": "stdout"
        }
      ]
    },
    {
      "cell_type": "markdown",
      "metadata": {
        "id": "i54WunhnAvgN"
      },
      "source": [
        "> Since our chi-squared statistic exceeds the critical value, we'd reject the null hypothesis that the two distributions are the same.\n",
        "\n",
        "> You can carry out a chi-squared goodness-of-fit test automatically using the scipy function scipy.stats.chisquare():"
      ]
    },
    {
      "cell_type": "code",
      "metadata": {
        "colab": {
          "base_uri": "https://localhost:8080/"
        },
        "id": "0CZ_a-ncAmdw",
        "outputId": "eaa6c40e-b913-4ea2-c7f3-18bdb407573c"
      },
      "source": [
        "stats.chisquare(f_obs= observed,   # Array of observed counts\n",
        "                f_exp= expected)   # Array of expected counts"
      ],
      "execution_count": 11,
      "outputs": [
        {
          "output_type": "execute_result",
          "data": {
            "text/plain": [
              "Power_divergenceResult(statistic=array([18.19480519]), pvalue=array([0.00113047]))"
            ]
          },
          "metadata": {
            "tags": []
          },
          "execution_count": 11
        }
      ]
    },
    {
      "cell_type": "markdown",
      "metadata": {
        "id": "qCdDMzGeA-Gm"
      },
      "source": [
        "> The test results agree with the values we calculated above."
      ]
    },
    {
      "cell_type": "markdown",
      "metadata": {
        "id": "k0sCqo2rBhdO"
      },
      "source": [
        "> ## Chi-Squared Test of Independence\n",
        "Independence) is a key concept in probability that describes a situation where knowing the value of one variable tells you nothing about the value of another. For instance, the month you were born probably doesn't tell you anything about which web browser you use, so we'd expect birth month and browser preference to be independent. On the other hand, your month of birth might be related to whether you excelled at sports in school, so month of birth and sports performance might not be independent.\n",
        "\n",
        "> The chi-squared test of independence tests whether two categorical variables are independent. The test of independence is commonly used to determine whether variables like education, political views and other preferences vary based on demographic factors like gender, race and religion. Let's generate some fake voter polling data and perform a test of independence:"
      ]
    },
    {
      "cell_type": "code",
      "metadata": {
        "colab": {
          "base_uri": "https://localhost:8080/",
          "height": 220
        },
        "id": "2k6wVjrX-Ywm",
        "outputId": "6f5da830-1fdf-451b-94ea-850d11731c6c"
      },
      "source": [
        "np.random.seed(10)\n",
        "\n",
        "# Sample data randomly at fixed probabilities\n",
        "voter_race = np.random.choice(a= [\"asian\",\"black\",\"hispanic\",\"other\",\"white\"],\n",
        "                              p = [0.05, 0.15 ,0.25, 0.05, 0.5],\n",
        "                              size=1000)\n",
        "voter_party = np.random.choice(a= [\"democrat\",\"independent\",\"republican\"],\n",
        "                              p = [0.4, 0.2, 0.4],\n",
        "                              size=1000)\n",
        "voters = pd.DataFrame({'race': voter_race, 'party': voter_party})\n",
        "\n",
        "voter_tab = pd.crosstab(voters.race, voters.party, margins=True)\n",
        "voter_tab_columns = [\"democrat\",\"independent\",\"republican\",\"row_totals\"]\n",
        "voter_tab.index = [\"asian\",\"black\",\"hispanic\",\"other\",\"white\",\"col_totals\"]\n",
        "\n",
        "observed = voter_tab.iloc[0:5,0:3]   # Get table without totals for later use\n",
        "voter_tab"
      ],
      "execution_count": 20,
      "outputs": [
        {
          "output_type": "execute_result",
          "data": {
            "text/html": [
              "<div>\n",
              "<style scoped>\n",
              "    .dataframe tbody tr th:only-of-type {\n",
              "        vertical-align: middle;\n",
              "    }\n",
              "\n",
              "    .dataframe tbody tr th {\n",
              "        vertical-align: top;\n",
              "    }\n",
              "\n",
              "    .dataframe thead th {\n",
              "        text-align: right;\n",
              "    }\n",
              "</style>\n",
              "<table border=\"1\" class=\"dataframe\">\n",
              "  <thead>\n",
              "    <tr style=\"text-align: right;\">\n",
              "      <th>party</th>\n",
              "      <th>democrat</th>\n",
              "      <th>independent</th>\n",
              "      <th>republican</th>\n",
              "      <th>All</th>\n",
              "    </tr>\n",
              "  </thead>\n",
              "  <tbody>\n",
              "    <tr>\n",
              "      <th>asian</th>\n",
              "      <td>21</td>\n",
              "      <td>7</td>\n",
              "      <td>32</td>\n",
              "      <td>60</td>\n",
              "    </tr>\n",
              "    <tr>\n",
              "      <th>black</th>\n",
              "      <td>65</td>\n",
              "      <td>25</td>\n",
              "      <td>64</td>\n",
              "      <td>154</td>\n",
              "    </tr>\n",
              "    <tr>\n",
              "      <th>hispanic</th>\n",
              "      <td>107</td>\n",
              "      <td>50</td>\n",
              "      <td>94</td>\n",
              "      <td>251</td>\n",
              "    </tr>\n",
              "    <tr>\n",
              "      <th>other</th>\n",
              "      <td>15</td>\n",
              "      <td>8</td>\n",
              "      <td>15</td>\n",
              "      <td>38</td>\n",
              "    </tr>\n",
              "    <tr>\n",
              "      <th>white</th>\n",
              "      <td>189</td>\n",
              "      <td>96</td>\n",
              "      <td>212</td>\n",
              "      <td>497</td>\n",
              "    </tr>\n",
              "    <tr>\n",
              "      <th>col_totals</th>\n",
              "      <td>397</td>\n",
              "      <td>186</td>\n",
              "      <td>417</td>\n",
              "      <td>1000</td>\n",
              "    </tr>\n",
              "  </tbody>\n",
              "</table>\n",
              "</div>"
            ],
            "text/plain": [
              "party       democrat  independent  republican   All\n",
              "asian             21            7          32    60\n",
              "black             65           25          64   154\n",
              "hispanic         107           50          94   251\n",
              "other             15            8          15    38\n",
              "white            189           96         212   497\n",
              "col_totals       397          186         417  1000"
            ]
          },
          "metadata": {
            "tags": []
          },
          "execution_count": 20
        }
      ]
    },
    {
      "cell_type": "markdown",
      "metadata": {
        "id": "2YhrR4ecZFSn"
      },
      "source": [
        "> Note that we did not use the race data to inform our generation of the party data so the variables are independent.\n",
        "\n",
        "> For a test of independence, we use the same chi-squared formula that we used for the goodness-of-fit test. The main difference is we have to calculate the expected counts of each cell in a 2-dimensional table instead of a 1-dimensional table. To get the expected count for a cell, multiply the row total for that cell by the column total for that cell and then divide by the total number of observations. We can quickly get the expected counts for all cells in the table by taking the row totals and column totals of the table, performing an outer product on them with the np.outer() function and dividing by the number of observations:"
      ]
    },
    {
      "cell_type": "code",
      "metadata": {
        "colab": {
          "base_uri": "https://localhost:8080/",
          "height": 191
        },
        "id": "7H03LkgBYvRI",
        "outputId": "1f144712-db07-478e-daec-21e23542cf6c"
      },
      "source": [
        "expected =  np.outer(voter_tab[\"All\"][0:5],\n",
        "                     voter_tab.loc[\"col_totals\"][0:3]) / 1000\n",
        "\n",
        "expected = pd.DataFrame(expected)\n",
        "\n",
        "expected.columns = [\"democrat\",\"independent\",\"republican\"]\n",
        "expected.index = [\"asian\",\"black\",\"hispanic\",\"other\",\"white\"]\n",
        "\n",
        "expected"
      ],
      "execution_count": 19,
      "outputs": [
        {
          "output_type": "execute_result",
          "data": {
            "text/html": [
              "<div>\n",
              "<style scoped>\n",
              "    .dataframe tbody tr th:only-of-type {\n",
              "        vertical-align: middle;\n",
              "    }\n",
              "\n",
              "    .dataframe tbody tr th {\n",
              "        vertical-align: top;\n",
              "    }\n",
              "\n",
              "    .dataframe thead th {\n",
              "        text-align: right;\n",
              "    }\n",
              "</style>\n",
              "<table border=\"1\" class=\"dataframe\">\n",
              "  <thead>\n",
              "    <tr style=\"text-align: right;\">\n",
              "      <th></th>\n",
              "      <th>democrat</th>\n",
              "      <th>independent</th>\n",
              "      <th>republican</th>\n",
              "    </tr>\n",
              "  </thead>\n",
              "  <tbody>\n",
              "    <tr>\n",
              "      <th>asian</th>\n",
              "      <td>23.820</td>\n",
              "      <td>11.160</td>\n",
              "      <td>25.020</td>\n",
              "    </tr>\n",
              "    <tr>\n",
              "      <th>black</th>\n",
              "      <td>61.138</td>\n",
              "      <td>28.644</td>\n",
              "      <td>64.218</td>\n",
              "    </tr>\n",
              "    <tr>\n",
              "      <th>hispanic</th>\n",
              "      <td>99.647</td>\n",
              "      <td>46.686</td>\n",
              "      <td>104.667</td>\n",
              "    </tr>\n",
              "    <tr>\n",
              "      <th>other</th>\n",
              "      <td>15.086</td>\n",
              "      <td>7.068</td>\n",
              "      <td>15.846</td>\n",
              "    </tr>\n",
              "    <tr>\n",
              "      <th>white</th>\n",
              "      <td>197.309</td>\n",
              "      <td>92.442</td>\n",
              "      <td>207.249</td>\n",
              "    </tr>\n",
              "  </tbody>\n",
              "</table>\n",
              "</div>"
            ],
            "text/plain": [
              "          democrat  independent  republican\n",
              "asian       23.820       11.160      25.020\n",
              "black       61.138       28.644      64.218\n",
              "hispanic    99.647       46.686     104.667\n",
              "other       15.086        7.068      15.846\n",
              "white      197.309       92.442     207.249"
            ]
          },
          "metadata": {
            "tags": []
          },
          "execution_count": 19
        }
      ]
    },
    {
      "cell_type": "markdown",
      "metadata": {
        "id": "agi3SMnjZaxt"
      },
      "source": [
        "> Now we can follow the same steps we took before to calculate the chi-square statistic, the critical value and the p-value:"
      ]
    },
    {
      "cell_type": "code",
      "metadata": {
        "colab": {
          "base_uri": "https://localhost:8080/"
        },
        "id": "x2d8DOvkZNq1",
        "outputId": "27e55b27-b92e-4365-edea-ace10815637e"
      },
      "source": [
        "chi_squared_stat = (((observed-expected)**2)/expected).sum().sum()\n",
        "\n",
        "print(chi_squared_stat)"
      ],
      "execution_count": 21,
      "outputs": [
        {
          "output_type": "stream",
          "text": [
            "7.169321280162059\n"
          ],
          "name": "stdout"
        }
      ]
    },
    {
      "cell_type": "markdown",
      "metadata": {
        "id": "ZucFEjv4ZhMw"
      },
      "source": [
        "> Note: We call .sum() twice: once to get the column sums and a second time to add the column sums together, returning the sum of the entire 2D table."
      ]
    },
    {
      "cell_type": "code",
      "metadata": {
        "colab": {
          "base_uri": "https://localhost:8080/"
        },
        "id": "PFEosTnbZfh2",
        "outputId": "f0277efb-7044-4d06-9136-020986c8c8ae"
      },
      "source": [
        "crit = stats.chi2.ppf(q = 0.95, # Find the critical value for 95% confidence*\n",
        "                      df = 8)   # *\n",
        "\n",
        "print(\"Critical value\")\n",
        "print(crit)\n",
        "\n",
        "p_value = 1 - stats.chi2.cdf(x=chi_squared_stat,  # Find the p-value\n",
        "                             df=8)\n",
        "print(\"P value\")\n",
        "print(p_value)"
      ],
      "execution_count": 22,
      "outputs": [
        {
          "output_type": "stream",
          "text": [
            "Critical value\n",
            "15.50731305586545\n",
            "P value\n",
            "0.518479392948842\n"
          ],
          "name": "stdout"
        }
      ]
    },
    {
      "cell_type": "markdown",
      "metadata": {
        "id": "fHDUzMvmZme0"
      },
      "source": [
        "> Note: The degrees of freedom for a test of independence equals the product of the number of categories in each variable minus 1. In this case we have a 5x3 table so df = 4x2 = 8.\n",
        "\n",
        "> As with the goodness-of-fit test, we can use scipy to conduct a test of independence quickly. Use stats.chi2_contingency() function to conduct a test of independence automatically given a frequency table of observed counts:"
      ]
    },
    {
      "cell_type": "code",
      "metadata": {
        "colab": {
          "base_uri": "https://localhost:8080/"
        },
        "id": "XS5D0nnGZkU6",
        "outputId": "9c9ab271-7c4f-4e87-d419-93748f6b8514"
      },
      "source": [
        "stats.chi2_contingency(observed = observed)"
      ],
      "execution_count": 23,
      "outputs": [
        {
          "output_type": "execute_result",
          "data": {
            "text/plain": [
              "(7.169321280162059, 0.518479392948842, 8, array([[ 23.82 ,  11.16 ,  25.02 ],\n",
              "        [ 61.138,  28.644,  64.218],\n",
              "        [ 99.647,  46.686, 104.667],\n",
              "        [ 15.086,   7.068,  15.846],\n",
              "        [197.309,  92.442, 207.249]]))"
            ]
          },
          "metadata": {
            "tags": []
          },
          "execution_count": 23
        }
      ]
    },
    {
      "cell_type": "markdown",
      "metadata": {
        "id": "D3Esmgf0ZxDF"
      },
      "source": [
        "> The output shows the chi-square statistic, the p-value and the degrees of freedom followed by the expected counts.\n",
        "\n",
        "> As expected, given the high p-value, the test result does not detect a significant relationship between the variables."
      ]
    },
    {
      "cell_type": "markdown",
      "metadata": {
        "id": "5mybsvo0Z4Dq"
      },
      "source": [
        "> ## Conclusion\n",
        "Chi-squared tests provide a way to investigate differences in the distributions of categorical variables with the same categories and the dependence between categorical variables."
      ]
    },
    {
      "cell_type": "code",
      "metadata": {
        "id": "3vmsWM4K5cIl"
      },
      "source": [
        ""
      ],
      "execution_count": null,
      "outputs": []
    }
  ]
}