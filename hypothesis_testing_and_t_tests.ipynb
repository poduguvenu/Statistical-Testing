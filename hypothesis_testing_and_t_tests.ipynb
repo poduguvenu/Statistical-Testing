{
  "nbformat": 4,
  "nbformat_minor": 0,
  "metadata": {
    "kernelspec": {
      "display_name": "Python 3",
      "language": "python",
      "name": "python3"
    },
    "language_info": {
      "codemirror_mode": {
        "name": "ipython",
        "version": 3
      },
      "file_extension": ".py",
      "mimetype": "text/x-python",
      "name": "python",
      "nbconvert_exporter": "python",
      "pygments_lexer": "ipython3",
      "version": "3.7.6"
    },
    "colab": {
      "name": "hypothesis-testing-and-t-tests.ipynb",
      "provenance": []
    }
  },
  "cells": [
    {
      "cell_type": "markdown",
      "metadata": {
        "id": "cexXsJhuTZD_"
      },
      "source": [
        "# Hypothesis Testing and T-Tests\n",
        "Statistical hypothesis testing is a framework for determining whether observed data deviates from what is expected. Python's scipy.stats library contains an array of functions that make it easy to carry out hypothesis tests."
      ]
    },
    {
      "cell_type": "markdown",
      "metadata": {
        "id": "CHi0zVEeT_ZR"
      },
      "source": [
        "> ## Hypothesis Testing Basics\n",
        "Statistical hypothesis tests are based a statement called the null hypothesis that assumes nothing interesting is going on between whatever variables you are testing. The exact form of the null hypothesis varies from one type test to another: if you are testing whether groups differ, the null hypothesis states that the groups are the same. For instance, if you wanted to test whether the average age of voters in your home state differs from the national average, the null hypothesis would be that there is no difference between the average ages.\n",
        "\n",
        "> The purpose of a hypothesis test is to determine whether the null hypothesis is likely to be true given sample data. If there is little evidence against the null hypothesis given the data, you accept the null hypothesis. If the null hypothesis is unlikely given the data, you might reject the null in favor of the alternative hypothesis: that something interesting is going on. The exact form of the alternative hypothesis will depend on the specific test you are carrying out. Continuing with the example above, the alternative hypothesis would be that the average age of voters in your state does in fact differ from the national average.\n",
        "\n",
        "> Once you have the null and alternative hypothesis in hand, you choose a significance level (often denoted by the Greek letter α.). The significance level is a probability threshold that determines when you reject the null hypothesis. After carrying out a test, if the probability of getting a result as extreme as the one you observe due to chance is lower than the significance level, you reject the null hypothesis in favor of the alternative. This probability of seeing a result as extreme or more extreme than the one observed is known as the p-value.\n",
        "\n",
        "> The T-test is a statistical test used to determine whether a numeric data sample of differs significantly from the population or whether two samples differ from one another.\n",
        "\n",
        "> ## One-Sample T-Test\n",
        "A one-sample t-test checks whether a sample mean differs from the population mean. Let's create some dummy age data for the population of voters in the entire country and a sample of voters in Minnesota and test whether the average age of voters Minnesota differs from the population:"
      ]
    },
    {
      "cell_type": "markdown",
      "metadata": {
        "id": "_4SRgtrmlzAm"
      },
      "source": [
        "> ## Import Required Libraries"
      ]
    },
    {
      "cell_type": "code",
      "metadata": {
        "id": "NZGVZKczlyMm"
      },
      "source": [
        "%matplotlib inline\n",
        "import matplotlib.pyplot as plt\n",
        "import numpy as np\n",
        "import pandas as pd\n",
        "import scipy.stats as stats\n",
        "import math"
      ],
      "execution_count": 5,
      "outputs": []
    },
    {
      "cell_type": "markdown",
      "metadata": {
        "id": "8L8Syy97mG8g"
      },
      "source": [
        "> ## Making the Dataset"
      ]
    },
    {
      "cell_type": "code",
      "metadata": {
        "colab": {
          "base_uri": "https://localhost:8080/"
        },
        "id": "nE6HBioCmDzX",
        "outputId": "373c43cd-3d78-4a40-e72e-5271e747e3ec"
      },
      "source": [
        "np.random.seed(6)\n",
        "\n",
        "pop_ages1 = stats.poisson.rvs(loc=18, mu=35, size=150000)\n",
        "pop_ages2 = stats.poisson.rvs(loc=18, mu=10, size=100000)\n",
        "pop_ages = np.concatenate((pop_ages1, pop_ages2))\n",
        "\n",
        "minn_ages1 = stats.poisson.rvs(loc=18, mu=30, size=30)\n",
        "minn_ages2 = stats.poisson.rvs(loc=18, mu=10, size=20)\n",
        "minn_ages = np.concatenate((minn_ages1, minn_ages2))\n",
        "\n",
        "print(pop_ages.mean())\n",
        "print(minn_ages.mean())"
      ],
      "execution_count": 6,
      "outputs": [
        {
          "output_type": "stream",
          "text": [
            "43.000112\n",
            "39.26\n"
          ],
          "name": "stdout"
        }
      ]
    },
    {
      "cell_type": "markdown",
      "metadata": {
        "id": "XVBIT_zJngR9"
      },
      "source": [
        "> Notice that we used a slightly different combination of distributions to generate the sample data for Minnesota, so we know that the two means are different. Let's conduct a t-test at a 95% confidence level and see if it correctly rejects the null hypothesis that the sample comes from the same distribution as the population. To conduct a one sample t-test, we can use the stats.ttest_1samp() function:"
      ]
    },
    {
      "cell_type": "code",
      "metadata": {
        "colab": {
          "base_uri": "https://localhost:8080/"
        },
        "id": "e6UuySY6nNYb",
        "outputId": "d534189d-3550-476a-b2cb-45b706fd9593"
      },
      "source": [
        "stats.ttest_1samp(a=minn_ages,      # Sample data\n",
        "                  popmean=pop_ages.mean())      # Population mean"
      ],
      "execution_count": 7,
      "outputs": [
        {
          "output_type": "execute_result",
          "data": {
            "text/plain": [
              "Ttest_1sampResult(statistic=-2.5742714883655027, pvalue=0.013118685425061678)"
            ]
          },
          "metadata": {
            "tags": []
          },
          "execution_count": 7
        }
      ]
    },
    {
      "cell_type": "markdown",
      "metadata": {
        "id": "Son2zWIJoqhd"
      },
      "source": [
        "> The test result shows the test statistic \"t\" is equal to -2.574. This test statistic tells us how much the sample mean deviates from the null hypothesis. If the t-statistic lies outside the quantiles of the t-distribution corresponding to our confidence level and degrees of freedom, we reject the null hypothesis. We can check the quantiles with stats.t.ppf():"
      ]
    },
    {
      "cell_type": "code",
      "metadata": {
        "colab": {
          "base_uri": "https://localhost:8080/"
        },
        "id": "EN7KaBpxoYvs",
        "outputId": "0e7435e0-492d-4e4d-ad17-bb9e52ec6b61"
      },
      "source": [
        "stats.t.ppf(q=0.025,        # Quantile to check\n",
        "            df = 49)        # Degrees of freedom       )"
      ],
      "execution_count": 8,
      "outputs": [
        {
          "output_type": "execute_result",
          "data": {
            "text/plain": [
              "-2.0095752344892093"
            ]
          },
          "metadata": {
            "tags": []
          },
          "execution_count": 8
        }
      ]
    },
    {
      "cell_type": "code",
      "metadata": {
        "colab": {
          "base_uri": "https://localhost:8080/"
        },
        "id": "i6p9HN4mpH3q",
        "outputId": "ec91f888-a1ac-40f8-9c87-83c2af2b823a"
      },
      "source": [
        "stats.t.ppf(q=0.975,    # Quantile to check\n",
        "            df=49)      # Degrees of freedom"
      ],
      "execution_count": 9,
      "outputs": [
        {
          "output_type": "execute_result",
          "data": {
            "text/plain": [
              "2.009575234489209"
            ]
          },
          "metadata": {
            "tags": []
          },
          "execution_count": 9
        }
      ]
    },
    {
      "cell_type": "markdown",
      "metadata": {
        "id": "EtketHMjpWig"
      },
      "source": [
        "> We can calculate the chances of seeing a result as extreme as the one we observed (known as the p-value) by passing the t-statistic in as the quantile to the stats.t.cdf() function:"
      ]
    },
    {
      "cell_type": "code",
      "metadata": {
        "colab": {
          "base_uri": "https://localhost:8080/"
        },
        "id": "7n21nBSCpPc2",
        "outputId": "8ee76571-bcba-481d-e128-970e5dd5d837"
      },
      "source": [
        "stats.t.cdf(x=-2.5742,          # T-test statistic\n",
        "            df = 49) * 2        # Multiply by two for two tailed test *"
      ],
      "execution_count": 10,
      "outputs": [
        {
          "output_type": "execute_result",
          "data": {
            "text/plain": [
              "0.013121066545690117"
            ]
          },
          "metadata": {
            "tags": []
          },
          "execution_count": 10
        }
      ]
    },
    {
      "cell_type": "markdown",
      "metadata": {
        "id": "NKxorPrmqI3B"
      },
      "source": [
        "> Note: The alternative hypothesis we are checking is whether the sample mean differs (is not equal to) the population mean. Since the sample could differ in either the positive or negative direction we multiply the by two.\n",
        "\n",
        "> Notice this value is the same as the p-value listed in the original t-test output. A p-value of 0.01311 means we'd expect to see data as extreme as our sample due to chance about 1.3% of the time if the null hypothesis was true. In this case, the p-value is lower than our significance level α (equal to 1-conf.level or 0.05) so we should reject the null hypothesis. If we were to construct a 95% confidence interval for the sample it would not capture population mean of 43:"
      ]
    },
    {
      "cell_type": "code",
      "metadata": {
        "colab": {
          "base_uri": "https://localhost:8080/"
        },
        "id": "Vl8g8NwRpwWL",
        "outputId": "6745b5de-1ec9-4bfb-f4a8-0e2aacff0ae6"
      },
      "source": [
        "sigma = minn_ages.std() / math.sqrt(50)         # Sample stdev / sample size\n",
        "\n",
        "stats.t.interval(0.95,                          # Confidence level\n",
        "                 df=49,                         # Degrees of freedom\n",
        "                 loc=minn_ages.mean(),          # Sample mean\n",
        "                 scale=sigma)                   # Standard deviation estimate"
      ],
      "execution_count": 11,
      "outputs": [
        {
          "output_type": "execute_result",
          "data": {
            "text/plain": [
              "(36.369669080722176, 42.15033091927782)"
            ]
          },
          "metadata": {
            "tags": []
          },
          "execution_count": 11
        }
      ]
    },
    {
      "cell_type": "markdown",
      "metadata": {
        "id": "YS5vssDErBb8"
      },
      "source": [
        "> On the other hand, since there is a 1.3% chance of seeing a result this extreme due to chance, it is not significant at the 99% confidence level. This means if we were to construct a 99% confidence interval, it would capture the population mean:"
      ]
    },
    {
      "cell_type": "code",
      "metadata": {
        "colab": {
          "base_uri": "https://localhost:8080/"
        },
        "id": "Ls08Sy-6q2Or",
        "outputId": "ff67e87c-b87c-4f4d-c973-1d3d642aade0"
      },
      "source": [
        "stats.t.interval(alpha = 0.99,                # Confidence level\n",
        "                 df = 49,                     # Degrees of freedom\n",
        "                 loc = minn_ages.mean(),      # Sample mean\n",
        "                 scale= sigma)                # Standard dev estimate"
      ],
      "execution_count": 13,
      "outputs": [
        {
          "output_type": "execute_result",
          "data": {
            "text/plain": [
              "(35.40547994092107, 43.11452005907893)"
            ]
          },
          "metadata": {
            "tags": []
          },
          "execution_count": 13
        }
      ]
    },
    {
      "cell_type": "markdown",
      "metadata": {
        "id": "VxYukWh7rvYl"
      },
      "source": [
        "> With a higher confidence level, we construct a wider confidence interval and increase the chances that it captures to true mean, thus making it less likely that we'll reject the null hypothesis. In this case, the p-value of 0.013 is greater than our significance level of 0.01 and we fail to reject the null hypothesis."
      ]
    },
    {
      "cell_type": "markdown",
      "metadata": {
        "id": "CnUwzI7bsE_d"
      },
      "source": [
        "> ## Two-Sample T-Test\n",
        "A two-sample t-test investigates whether the means of two independent data samples differ from one another. In a two-sample test, the null hypothesis is that the means of both groups are the same. Unlike the one sample-test where we test against a known population parameter, the two sample test only involves sample means. You can conduct a two-sample t-test by passing with the stats.ttest_ind() function. Let's generate a sample of voter age data for Wisconsin and test it against the sample we made earlier:"
      ]
    },
    {
      "cell_type": "code",
      "metadata": {
        "colab": {
          "base_uri": "https://localhost:8080/"
        },
        "id": "DCL5VgLOrMQN",
        "outputId": "123ffcc6-89f5-4a59-d726-f6c86f36e600"
      },
      "source": [
        "np.random.seed(12)\n",
        "wisconsin_ages1 = stats.poisson.rvs(loc=18, mu=33, size=30)\n",
        "wisconsin_ages2 = stats.poisson.rvs(loc=18, mu=13, size=20)\n",
        "wisconsin_ages = np.concatenate((wisconsin_ages1, wisconsin_ages2))\n",
        "\n",
        "print( wisconsin_ages.mean() )"
      ],
      "execution_count": 14,
      "outputs": [
        {
          "output_type": "stream",
          "text": [
            "42.8\n"
          ],
          "name": "stdout"
        }
      ]
    },
    {
      "cell_type": "code",
      "metadata": {
        "colab": {
          "base_uri": "https://localhost:8080/"
        },
        "id": "pFtTJc-Xr3kp",
        "outputId": "28fbf7fc-17fa-48c0-e059-1bc3e37558ed"
      },
      "source": [
        "stats.ttest_ind(a= minn_ages,\n",
        "                b= wisconsin_ages,\n",
        "                equal_var=False)    # Assume samples have equal variance?"
      ],
      "execution_count": 16,
      "outputs": [
        {
          "output_type": "execute_result",
          "data": {
            "text/plain": [
              "Ttest_indResult(statistic=-1.7083870793286842, pvalue=0.09073104343957748)"
            ]
          },
          "metadata": {
            "tags": []
          },
          "execution_count": 16
        }
      ]
    },
    {
      "cell_type": "markdown",
      "metadata": {
        "id": "F_DKHHdqtNTB"
      },
      "source": [
        "> The test yields a p-value of 0.0907, which means there is a 9% chance we'd see sample data this far apart if the two groups tested are actually identical. If we were using a 95% confidence level we would fail to reject the null hypothesis, since the p-value is greater than the corresponding significance level of 5%."
      ]
    },
    {
      "cell_type": "markdown",
      "metadata": {
        "id": "w0-H-hcqtblc"
      },
      "source": [
        "> ## Paired T-Test\n",
        "The basic two sample t-test is designed for testing differences between independent groups. In some cases, you might be interested in testing differences between samples of the same group at different points in time. For instance, a hospital might want to test whether a weight-loss drug works by checking the weights of the same group patients before and after treatment. A paired t-test lets you check whether the means of samples from the same group differ.\n",
        "\n",
        "> We can conduct a paired t-test using the scipy function stats.ttest_rel(). Let's generate some dummy patient weight data and do a paired t-test:"
      ]
    },
    {
      "cell_type": "code",
      "metadata": {
        "colab": {
          "base_uri": "https://localhost:8080/",
          "height": 277
        },
        "id": "UVZcqvGcsY3B",
        "outputId": "fc564cf7-ed8b-4976-e86a-46d3805e56f9"
      },
      "source": [
        "np.random.seed(11)\n",
        "\n",
        "before= stats.norm.rvs(scale=30, loc=250, size=100)\n",
        "\n",
        "after = before + stats.norm.rvs(scale=5, loc=-1.25, size=100)\n",
        "\n",
        "weight_df = pd.DataFrame({\"weight_before\":before,\n",
        "                          \"weight_after\":after,\n",
        "                          \"weight_change\":after-before})\n",
        "\n",
        "weight_df.describe()             # Check a summary of the data"
      ],
      "execution_count": 17,
      "outputs": [
        {
          "output_type": "execute_result",
          "data": {
            "text/html": [
              "<div>\n",
              "<style scoped>\n",
              "    .dataframe tbody tr th:only-of-type {\n",
              "        vertical-align: middle;\n",
              "    }\n",
              "\n",
              "    .dataframe tbody tr th {\n",
              "        vertical-align: top;\n",
              "    }\n",
              "\n",
              "    .dataframe thead th {\n",
              "        text-align: right;\n",
              "    }\n",
              "</style>\n",
              "<table border=\"1\" class=\"dataframe\">\n",
              "  <thead>\n",
              "    <tr style=\"text-align: right;\">\n",
              "      <th></th>\n",
              "      <th>weight_before</th>\n",
              "      <th>weight_after</th>\n",
              "      <th>weight_change</th>\n",
              "    </tr>\n",
              "  </thead>\n",
              "  <tbody>\n",
              "    <tr>\n",
              "      <th>count</th>\n",
              "      <td>100.000000</td>\n",
              "      <td>100.000000</td>\n",
              "      <td>100.000000</td>\n",
              "    </tr>\n",
              "    <tr>\n",
              "      <th>mean</th>\n",
              "      <td>250.345546</td>\n",
              "      <td>249.115171</td>\n",
              "      <td>-1.230375</td>\n",
              "    </tr>\n",
              "    <tr>\n",
              "      <th>std</th>\n",
              "      <td>28.132539</td>\n",
              "      <td>28.422183</td>\n",
              "      <td>4.783696</td>\n",
              "    </tr>\n",
              "    <tr>\n",
              "      <th>min</th>\n",
              "      <td>170.400443</td>\n",
              "      <td>165.913930</td>\n",
              "      <td>-11.495286</td>\n",
              "    </tr>\n",
              "    <tr>\n",
              "      <th>25%</th>\n",
              "      <td>230.421042</td>\n",
              "      <td>229.148236</td>\n",
              "      <td>-4.046211</td>\n",
              "    </tr>\n",
              "    <tr>\n",
              "      <th>50%</th>\n",
              "      <td>250.830805</td>\n",
              "      <td>251.134089</td>\n",
              "      <td>-1.413463</td>\n",
              "    </tr>\n",
              "    <tr>\n",
              "      <th>75%</th>\n",
              "      <td>270.637145</td>\n",
              "      <td>268.927258</td>\n",
              "      <td>1.738673</td>\n",
              "    </tr>\n",
              "    <tr>\n",
              "      <th>max</th>\n",
              "      <td>314.700233</td>\n",
              "      <td>316.720357</td>\n",
              "      <td>9.759282</td>\n",
              "    </tr>\n",
              "  </tbody>\n",
              "</table>\n",
              "</div>"
            ],
            "text/plain": [
              "       weight_before  weight_after  weight_change\n",
              "count     100.000000    100.000000     100.000000\n",
              "mean      250.345546    249.115171      -1.230375\n",
              "std        28.132539     28.422183       4.783696\n",
              "min       170.400443    165.913930     -11.495286\n",
              "25%       230.421042    229.148236      -4.046211\n",
              "50%       250.830805    251.134089      -1.413463\n",
              "75%       270.637145    268.927258       1.738673\n",
              "max       314.700233    316.720357       9.759282"
            ]
          },
          "metadata": {
            "tags": []
          },
          "execution_count": 17
        }
      ]
    },
    {
      "cell_type": "markdown",
      "metadata": {
        "id": "YA6ZiVuttt-K"
      },
      "source": [
        "> The summary shows that patients lost about 1.23 pounds on average after treatment. Let's conduct a paired t-test to see whether this difference is significant at a 95% confidence level:"
      ]
    },
    {
      "cell_type": "code",
      "metadata": {
        "colab": {
          "base_uri": "https://localhost:8080/"
        },
        "id": "YC6Sq11Atqv1",
        "outputId": "28c411d6-4459-4dd3-d011-bdb216795906"
      },
      "source": [
        "stats.ttest_rel(a = before,\n",
        "                b = after)"
      ],
      "execution_count": 18,
      "outputs": [
        {
          "output_type": "execute_result",
          "data": {
            "text/plain": [
              "Ttest_relResult(statistic=2.5720175998568284, pvalue=0.011596444318439857)"
            ]
          },
          "metadata": {
            "tags": []
          },
          "execution_count": 18
        }
      ]
    },
    {
      "cell_type": "markdown",
      "metadata": {
        "id": "o6BExPQXuTIj"
      },
      "source": [
        "> ## Type I and Type II Error\n",
        "The result of a statistical hypothesis test and the corresponding decision of whether to reject or accept the null hypothesis is not infallible. A test provides evidence for or against the null hypothesis and then you decide whether to accept or reject it based on that evidence, but the evidence may lack the strength to arrive at the correct conclusion. Incorrect conclusions made from hypothesis tests fall in one of two categories: type I error and type II error.\n",
        "\n",
        "> Type I error describes a situation where you reject the null hypothesis when it is actually true. This type of error is also known as a \"false positive\" or \"false hit\". The type 1 error rate is equal to the significance level α, so setting a higher confidence level (and therefore lower alpha) reduces the chances of getting a false positive.\n",
        "\n",
        "> Type II error describes a situation where you fail to reject the null hypothesis when it is actually false. Type II error is also known as a \"false negative\" or \"miss\". The higher your confidence level, the more likely you are to make a type II error.\n",
        "\n",
        "> Let's investigate these errors with a plot:"
      ]
    },
    {
      "cell_type": "code",
      "metadata": {
        "colab": {
          "base_uri": "https://localhost:8080/",
          "height": 592
        },
        "id": "aWZPo0Axt4sa",
        "outputId": "a98a33a6-8c90-4365-b4f8-aef19e8c6f4b"
      },
      "source": [
        "plt.figure(figsize=(12,10))\n",
        "\n",
        "plt.fill_between(x=np.arange(-4,-2,0.01), \n",
        "                 y1= stats.norm.pdf(np.arange(-4,-2,0.01)) ,\n",
        "                 facecolor='red',\n",
        "                 alpha=0.35)\n",
        "\n",
        "plt.fill_between(x=np.arange(-2,2,0.01), \n",
        "                 y1= stats.norm.pdf(np.arange(-2,2,0.01)) ,\n",
        "                 facecolor='grey',\n",
        "                 alpha=0.35)\n",
        "\n",
        "plt.fill_between(x=np.arange(2,4,0.01), \n",
        "                 y1= stats.norm.pdf(np.arange(2,4,0.01)) ,\n",
        "                 facecolor='red',\n",
        "                 alpha=0.5)\n",
        "\n",
        "plt.fill_between(x=np.arange(-4,-2,0.01), \n",
        "                 y1= stats.norm.pdf(np.arange(-4,-2,0.01),loc=3, scale=2) ,\n",
        "                 facecolor='grey',\n",
        "                 alpha=0.35)\n",
        "\n",
        "plt.fill_between(x=np.arange(-2,2,0.01), \n",
        "                 y1= stats.norm.pdf(np.arange(-2,2,0.01),loc=3, scale=2) ,\n",
        "                 facecolor='blue',\n",
        "                 alpha=0.35)\n",
        "\n",
        "plt.fill_between(x=np.arange(2,10,0.01), \n",
        "                 y1= stats.norm.pdf(np.arange(2,10,0.01),loc=3, scale=2),\n",
        "                 facecolor='grey',\n",
        "                 alpha=0.35)\n",
        "\n",
        "plt.text(x=-0.8, y=0.15, s= \"Null Hypothesis\")\n",
        "plt.text(x=2.5, y=0.13, s= \"Alternative\")\n",
        "plt.text(x=2.1, y=0.01, s= \"Type 1 Error\")\n",
        "plt.text(x=-3.2, y=0.01, s= \"Type 1 Error\")\n",
        "plt.text(x=0, y=0.02, s= \"Type 2 Error\");"
      ],
      "execution_count": 19,
      "outputs": [
        {
          "output_type": "display_data",
          "data": {
            "image/png": "[encoded data removed]",
            "text/plain": [
              "<Figure size 864x720 with 1 Axes>"
            ]
          },
          "metadata": {
            "tags": [],
            "needs_background": "light"
          }
        }
      ]
    },
    {
      "cell_type": "markdown",
      "metadata": {
        "id": "WwP51bv7uxKW"
      },
      "source": [
        "> In the plot above, the red areas indicate type I errors assuming the alternative hypothesis is not different from the null for a two-sided test with a 95% confidence level.\n",
        "\n",
        "> The blue area represents type II errors that occur when the alternative hypothesis is different from the null, as shown by the distribution on the right. Note that the Type II error rate is the area under the alternative distribution within the quantiles determined by the null distribution and the confidence level. We can calculate the type II error rate for the distributions above as follows:"
      ]
    },
    {
      "cell_type": "code",
      "metadata": {
        "colab": {
          "base_uri": "https://localhost:8080/"
        },
        "id": "TaIRuT1dujRZ",
        "outputId": "8b03326e-4084-431d-e254-ef8c734e6196"
      },
      "source": [
        "lower_quantile = stats.norm.ppf(0.025)  # Lower cutoff value\n",
        "upper_quantile = stats.norm.ppf(0.975)  # Upper cutoff value\n",
        "\n",
        "# Area under alternative, to the left the lower cutoff value\n",
        "low = stats.norm.cdf(lower_quantile,    \n",
        "                     loc=3,             \n",
        "                     scale=2)\n",
        "\n",
        "# Area under alternative, to the left the upper cutoff value\n",
        "high = stats.norm.cdf(upper_quantile, \n",
        "                      loc=3, \n",
        "                      scale=2)          \n",
        "\n",
        "# Area under the alternative, between the cutoffs (Type II error)\n",
        "high-low"
      ],
      "execution_count": 20,
      "outputs": [
        {
          "output_type": "execute_result",
          "data": {
            "text/plain": [
              "0.294956061112323"
            ]
          },
          "metadata": {
            "tags": []
          },
          "execution_count": 20
        }
      ]
    },
    {
      "cell_type": "markdown",
      "metadata": {
        "id": "PWdZwqi-u9zx"
      },
      "source": [
        "> With the normal distributions above, we'd fail to reject the null hypothesis about 30% of the time because the distributions are close enough together that they have significant overlap."
      ]
    },
    {
      "cell_type": "markdown",
      "metadata": {
        "id": "VWKLrnYnvV5m"
      },
      "source": [
        "> ## Conclusion\n",
        "The t-test is a powerful tool for investigating the differences between sample and population means. T-tests operate on numeric variables"
      ]
    },
    {
      "cell_type": "code",
      "metadata": {
        "id": "3Gt-J9h8THce"
      },
      "source": [
        ""
      ],
      "execution_count": null,
      "outputs": []
    }
  ]
}